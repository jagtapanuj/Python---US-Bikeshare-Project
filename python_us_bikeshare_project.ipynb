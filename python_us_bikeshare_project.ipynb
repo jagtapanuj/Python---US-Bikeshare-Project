import time
import numpy as np 
import pandas as pd

CITY_DATA = { 'chicago': 'chicago.csv',
              'new york city': 'new_york_city.csv',
              'washington': 'washington.csv' } 

MONTHS = ['january', 'february', 'march', 'april', 'may', 'june','all']

DAYS = ['monday', 'tuesday', 'wednesday', 'thursday', 'friday', 'saturday', 'sunday','all']

CITIES = list(CITY_DATA.keys())

def get_filters():
    """
    Asks user to specify a city, month, and day to analyze.

    Returns:
        (str) city - name of the city to analyze
        (str) month - name of the month to filter by, or "all" to apply no month filter
        (str) day - name of the day of week to filter by, or "all" to apply no day filter
    """
    print('Hello! Let\'s explore some US bikeshare data!')

    city = None
    while city not in CITY_DATA:
        city = input('Would you like to see data for chicago, new york city, or washington?\n').lower()

    month = None
    while month not in MONTHS:
        month = input('Which month? january, february, march, april, may or june or all?\n').lower()

    day = None
    while day not in DAYS:
        day = input('Which day of the week? or all?\n').lower()

    print('-'*40)
    return city, month, day



def load_data(city, month, day):
    """
    Loads data for the specified city and filters by month and day if applicable.

    Args:
        (str) city - name of the city to analyze
        (str) month - name of the month to filter by, or "all" to apply no month filter
        (str) day - name of the day of week to filter by, or "all" to apply no day filter
    Returns:
        df - Pandas DataFrame containing city data filtered by month and day
    """
    df = pd.read_csv(CITY_DATA[city])
    
    df['Start Time'] = pd.to_datetime(df['Start Time'])
    
    df['month'] = df['Start Time'].dt.month
    df['day_of_week'] = df['Start Time'].dt.day_name()
    
    if month != 'all':
        months = ['january', 'february', 'march', 'april', 'may', 'june']
        month = months.index(month) + 1
        
        df = df[df['month'] == month]
    
    if day != 'all':
        df = df[df['day_of_week'] == day.title()]
    

    return df


def time_stats(df):
    """Displays statistics on the most frequent times of travel.
    Args:
        (DataFrame) df - Pandas DataFrame containing city data filtered by month and day
    """

    print('\nCalculating The Most Frequent Times of Travel...\n')
    start_time = time.time()

    popular_month = df['month'].mode()[0]
    print(f'The most common month is: {popular_month}')

    popular_day = df['day_of_week'].mode()[0]
    print(f'The most common day: {popular_day}')

    df['hour'] = df['Start Time'].dt.hour
    popular_hour = df['hour'].mode()[0]
    print(f'The most common start hour is: {popular_hour}' )

    print("\nThis took %s seconds." % (time.time() - start_time))
    print('-'*40)

def station_stats(df):
    """Displays statistics on the most popular stations and trip.
    Args:
        (DataFrame) df - Pandas DataFrame containing city data filtered by month and day
    """

    print('\nCalculating The Most Popular Stations and Trip...\n')
    start_time = time.time()
    
    popular_start = df['Start Station'].mode()[0]
    print(f'Most Commonly used start station: {popular_start}')
    
    popular_end = df['End Station'].mode()[0]
    print(f'\nMost Commonly used end station: {popular_end}')
    
    frequent_combination = (df['Start Station'] + " to " + df['End Station']).mode()[0]
    print("The most frequent combination of start station and end station trip is : ", frequent_combination) 
    
    
    print("\nThis took %s seconds." % (time.time() - start_time))
    print('-'*40)
    
def trip_duration_stats(df):
    """Displays statistics on the total and average trip duration.
    Args:
        (DataFrame) df - Pandas DataFrame containing city data filtered by month and day
    """

    print('\nCalculating Trip Duration...\n')
    start_time = time.time()

    total_time = df['Trip Duration'].sum()
    print("Total travel time is: ", total_time)

    mean_time = df['Trip Duration'].mean()
    print("Mean travel time:", mean_time)

    print("\nThis took %s seconds." % (time.time() - start_time))
    print('-'*40)

def user_stats(df):
    """Displays statistics on bikeshare users.
    Args:
        (DataFrame) df - Pandas DataFrame containing city data filtered by month and day
    """

    print('\nCalculating User Stats...\n')
    start_time = time.time()

    print("Counts of User Types are: ", df['User Type'].value_counts())

    try:
        print('Counts of Gender is: ', df['Gender'].value_counts())
    except KeyError:
        print('Counts of Gender is: \nNot available for this month.')
   
    try:
        early_birth_year = df['Birth Year'].min()
        print('Earliest year of birth is: ', early_birth_year)
    except KeyError:
        print('arliest year of birth is: \nNot available for this month.')
    
    try:
        recent_birth_year = df['Birth Year'].max()
        print('Most recent year of birth is: ', recent_birth_year)
    except KeyError:
        print('Most recent year of birth is: \nNot available for this month.')
    
    try:
        common_birth_year = df['Birth Year'].mode()[0]
        print('Most common year of birth is: ', common_birth_year)
    except KeyError:
        print('Most common year of birth is: \nNot available for this month.')

    print("\nThis took %s seconds." % (time.time() - start_time))
    print('-'*40)

def raw_data():
    """Displays raw data on user request.
    Args:
        (DataFrame) df - Pandas DataFrame containing city data filtered by month and day
    """
    i = 0
    while True:
        view_data = input('Would you like to see 5 rows of the data? yes or no ?\n').lower()
        if view_data == 'yes':
            print(df.iloc[i:i+5])
            i += 5
        elif view_data == 'no':
            break
        else:
            print('Sorry, wrong input, try again!')

def main():
    while True:
        city, month, day = get_filters()
        df = load_data(city, month, day)
        
        
        time_stats(df)
        station_stats(df)
        trip_duration_stats(df)
        user_stats(df)
        raw_data()

        restart = input('\nWould you like to restart? Enter yes or no.\n').lower()
        if restart.lower() != 'yes':
            break

if __name__ == "__main__":
	main()